{
 "cells": [
  {
   "cell_type": "markdown",
   "metadata": {},
   "source": [
    "# 고차원 웹 애플리케이션 아키텍처"
   ]
  },
  {
   "cell_type": "markdown",
   "metadata": {},
   "source": [
    "1. GET, POST, HEAD와 같은 HTTP 메소드들 각각에 대해 메소드의 목적과 기술적인 특징을 설명할 수 있어야 한다.  \n",
    "    웹 브라우저 같은 client가 메소드를 사용하면 발생하는 작업들이 무엇인지, 그리고 HTTP 메소드에 대응하는 HttpServlet 메소드는 무엇인지 설명할 수 있어야 한다.  \n",
    "2. servlet 생명 주기의 이벤트 순서와 목적을 설명할 수 있어야 한다.  \n",
    "    (1) servlet 클래스 로딩  \n",
    "    (2) servlet instantiation(인스턴스화)  \n",
    "    (3) init 메서드 호출  \n",
    "    (4) service 메서드 호출  \n",
    "    (5) destory 메서드 호출  \n",
    "3. 다음을 포함하는 web application의 file과 directory구조를 만들 줄 알아야 한다.  \n",
    "    (1) static content  \n",
    "    (2) JSP pages  \n",
    "    (3) servlet classes  \n",
    "    (4) deployment descriptor(배포 서술자)  \n",
    "    (5) tag libraries  \n",
    "    (6) JAR files  \n",
    "    (7) Java class files  \n",
    "    HTTP access로부터 파일 자원들을 어떻게 보호할지에 대해 설명할 수 있어야 한다.  \n",
    "4. deployment descriptor(배포 서술자) 원소의 목적과 의미에 대해 설명할 수 있어야 한다.  \n",
    "    : servlet instance, servlet name, servlet class, servlet initialization parameters, and servlet 매핑에 사용할 URL"
   ]
  },
  {
   "cell_type": "markdown",
   "metadata": {},
   "source": [
    "## Container란?\n",
    "servlet은 main() method가 없어서 Container라는 Java application의 지배를 받는다.  \n",
    "\n",
    "tomcat은 Container의 한 가지 종류이다. Apache와 같은 web server application이 servlet에 대한 request를 받으면 server는 request를 servlet에게 바로 넘겨주는 것이 아니라, servlet을 관리하고 있는 Container에게 request를 준다. Container가 servlet에게 HTTP request와 response를 주고 doPost()나 doGet()같은 servlet 메소드를 호출한다.\n",
    "\n",
    "### Container가 주는 혜택\n",
    "servlet을 관리하고 실행하는 것은 Container이다.\n",
    "1. Communication support  \n",
    "    container는 servlet이 web server와 통신할 수 있는 쉬운 방법을 제시한다.  \n",
    "2. Lifecycle Management  \n",
    "    Container는 클래스를 로딩하여 인스턴스화하고 servlet을 초기화하여 servlet메소드들을 호출하고 garbage collection이 servlet instance를 잘 읽을 수 있도록 만든다.  \n",
    "3. Multithreading Support  \n",
    "    Container는 들어오는 모든 servlet request에 대해 자동으로 Java thread를 만든다. 클라이언트의 요청에 따라 적절한 HTTP service 메서드가 끝나면, 스레드는 끝난다.  \n",
    "4. Declarative Security(선언적인 보안)  \n",
    "    Container를 사용하면 servlet class code안에 hard-coding할 필요 없이 XML deployment descriptor(배포 서술자)를 사용하여 보안 환경을 설정할 수 있다.  \n",
    "5. JSP Support  \n",
    "    Container가 JSP code를 실제 Java code로 변환해준다.  \n",
    "\n",
    "### Container가 request를 다루는 방법\n",
    "1. user가 servlet으로 연결된 URL을 포함한 링크를 클릭한다.\n",
    "2. container는 request가 servlet을 위한 것임을 확인하고 두 객체를 만든다.\n",
    "    1) HttpServletResponse\n",
    "    2) HttpServletRequest\n",
    "3. container는 request상의 URL에 기초해서 올바른 servlet을 찾은뒤, 그 request를 위해 thread를 생성해서 request와 response 객체를 servlet 스레드로 넘긴다.\n",
    "4. Container는 servlet의 service() 메소드를 호출한다. request의 종류에 따라 service() 메서드는 doGet() 또는 doPost() 메서드를 호출한다.\n",
    "5. doGet()메소드를 호출했다면, 동적인 페이지를 생성하고 response 객체에 그 페이지를 실어 보낸다.\n",
    "6. thread가 끝나면 container는 response 객체를 HTTP response로 전환하여 clien에게 보낸다. 그리고 마지막으로 request와 response객체를 삭제한다."
   ]
  },
  {
   "cell_type": "markdown",
   "metadata": {},
   "source": []
  },
  {
   "cell_type": "markdown",
   "metadata": {},
   "source": []
  },
  {
   "cell_type": "markdown",
   "metadata": {},
   "source": []
  },
  {
   "cell_type": "markdown",
   "metadata": {},
   "source": []
  },
  {
   "cell_type": "markdown",
   "metadata": {},
   "source": []
  },
  {
   "cell_type": "markdown",
   "metadata": {},
   "source": []
  },
  {
   "cell_type": "markdown",
   "metadata": {},
   "source": []
  },
  {
   "cell_type": "markdown",
   "metadata": {},
   "source": []
  },
  {
   "cell_type": "markdown",
   "metadata": {},
   "source": []
  },
  {
   "cell_type": "markdown",
   "metadata": {},
   "source": []
  },
  {
   "cell_type": "markdown",
   "metadata": {},
   "source": []
  },
  {
   "cell_type": "markdown",
   "metadata": {},
   "source": []
  },
  {
   "cell_type": "markdown",
   "metadata": {},
   "source": []
  },
  {
   "cell_type": "markdown",
   "metadata": {},
   "source": []
  },
  {
   "cell_type": "markdown",
   "metadata": {},
   "source": []
  },
  {
   "cell_type": "markdown",
   "metadata": {},
   "source": []
  },
  {
   "cell_type": "markdown",
   "metadata": {},
   "source": []
  },
  {
   "cell_type": "markdown",
   "metadata": {},
   "source": []
  },
  {
   "cell_type": "markdown",
   "metadata": {},
   "source": []
  },
  {
   "cell_type": "markdown",
   "metadata": {},
   "source": []
  },
  {
   "cell_type": "markdown",
   "metadata": {},
   "source": []
  },
  {
   "cell_type": "markdown",
   "metadata": {},
   "source": []
  },
  {
   "cell_type": "markdown",
   "metadata": {},
   "source": []
  },
  {
   "cell_type": "markdown",
   "metadata": {},
   "source": []
  },
  {
   "cell_type": "markdown",
   "metadata": {},
   "source": []
  },
  {
   "cell_type": "markdown",
   "metadata": {},
   "source": []
  },
  {
   "cell_type": "markdown",
   "metadata": {},
   "source": []
  },
  {
   "cell_type": "markdown",
   "metadata": {},
   "source": []
  },
  {
   "cell_type": "markdown",
   "metadata": {},
   "source": []
  },
  {
   "cell_type": "markdown",
   "metadata": {},
   "source": []
  },
  {
   "cell_type": "markdown",
   "metadata": {},
   "source": []
  },
  {
   "cell_type": "markdown",
   "metadata": {},
   "source": []
  },
  {
   "cell_type": "markdown",
   "metadata": {},
   "source": []
  },
  {
   "cell_type": "markdown",
   "metadata": {},
   "source": []
  },
  {
   "cell_type": "markdown",
   "metadata": {},
   "source": []
  },
  {
   "cell_type": "markdown",
   "metadata": {},
   "source": []
  },
  {
   "cell_type": "markdown",
   "metadata": {},
   "source": []
  },
  {
   "cell_type": "markdown",
   "metadata": {},
   "source": []
  }
 ],
 "metadata": {
  "language_info": {
   "name": "python"
  }
 },
 "nbformat": 4,
 "nbformat_minor": 2
}
